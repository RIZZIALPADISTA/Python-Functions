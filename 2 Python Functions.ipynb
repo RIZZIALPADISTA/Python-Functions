{
 "cells": [
  {
   "cell_type": "markdown",
   "id": "92e66022-7370-4082-a4a1-657df0d95182",
   "metadata": {},
   "source": [
    "# Function\n",
    "\n",
    "- Ask: Bisakah function mereturn function?"
   ]
  },
  {
   "cell_type": "code",
   "execution_count": 1,
   "id": "5dadee83-c30c-4cfd-a801-c69187c5e280",
   "metadata": {},
   "outputs": [],
   "source": [
    "def x():\n",
    "    return 12\n",
    "\n",
    "def y():\n",
    "    return x()"
   ]
  },
  {
   "cell_type": "code",
   "execution_count": 2,
   "id": "ab9e3c15-2f68-41ef-862f-708ed4ad1c95",
   "metadata": {},
   "outputs": [
    {
     "data": {
      "text/plain": [
       "12"
      ]
     },
     "execution_count": 2,
     "metadata": {},
     "output_type": "execute_result"
    }
   ],
   "source": [
    "y()"
   ]
  },
  {
   "cell_type": "markdown",
   "id": "45f180ae-c25a-46d8-8cf7-b2db3446eda7",
   "metadata": {},
   "source": [
    "## Recursive function\n",
    "\n",
    "sebuah function dapat memanggil dirinya sendiri"
   ]
  },
  {
   "cell_type": "code",
   "execution_count": 4,
   "id": "09ae6e3b-410d-4c6c-a958-582a6a9403e1",
   "metadata": {},
   "outputs": [],
   "source": [
    "x = [1, 2, 3, 4, 5]\n",
    "# hitung jumlah semua elemen dalam x = 1+2+3+4+5 = 15"
   ]
  },
  {
   "cell_type": "code",
   "execution_count": 6,
   "id": "554c3a7c-523a-416b-becc-f485c5a7c971",
   "metadata": {},
   "outputs": [
    {
     "data": {
      "text/plain": [
       "15"
      ]
     },
     "execution_count": 6,
     "metadata": {},
     "output_type": "execute_result"
    }
   ],
   "source": [
    "# solusi 1: for loop\n",
    "total = 0\n",
    "for e in x:\n",
    "    # total = total + e\n",
    "    total += e\n",
    "total"
   ]
  },
  {
   "cell_type": "code",
   "execution_count": 11,
   "id": "8da92a55-1a25-43a4-b22b-531da452c4d2",
   "metadata": {},
   "outputs": [
    {
     "data": {
      "text/plain": [
       "15"
      ]
     },
     "execution_count": 11,
     "metadata": {},
     "output_type": "execute_result"
    }
   ],
   "source": [
    "# solusi 2: while loop\n",
    "total = 0\n",
    "i = 0\n",
    "while i < len(x):  # len(x) == 5\n",
    "    total += x[i]\n",
    "    i += 1\n",
    "total"
   ]
  },
  {
   "cell_type": "code",
   "execution_count": 54,
   "id": "996f914e-0a2c-41ac-9b7e-c1519007827e",
   "metadata": {},
   "outputs": [],
   "source": [
    "# solusi 3: recursive function\n",
    "def jumlah(listAngka):\n",
    "    if len(listAngka) == 0:  # []\n",
    "        return 0\n",
    "    elif len(listAngka) == 1:   # [82]\n",
    "        return listAngka[0]\n",
    "    else:\n",
    "        return listAngka[0] + jumlah(listAngka[1:])"
   ]
  },
  {
   "cell_type": "code",
   "execution_count": 55,
   "id": "e6c8e2e8-4f9e-42b5-91f6-1ffdc23ab4fd",
   "metadata": {},
   "outputs": [
    {
     "data": {
      "text/plain": [
       "15"
      ]
     },
     "execution_count": 55,
     "metadata": {},
     "output_type": "execute_result"
    }
   ],
   "source": [
    "x = [1, 2, 3, 4, 5]\n",
    "jumlah(x)"
   ]
  },
  {
   "cell_type": "markdown",
   "id": "2f2f56f0-1a33-4e54-8306-36770b26540c",
   "metadata": {},
   "source": [
    "## Solusi factorial\n",
    "\n",
    "$$ 5! = 5 \\times 4 \\times 3 \\times 2 \\times 1 $$\n"
   ]
  },
  {
   "cell_type": "code",
   "execution_count": 51,
   "id": "93cea09a-d0ad-4133-88f2-ccc6a7994302",
   "metadata": {},
   "outputs": [],
   "source": [
    "# for loop\n",
    "def factorial(x):   # x = int, 5\n",
    "    result = 1\n",
    "    for i in list(range(1, x + 1)):\n",
    "        result *= i\n",
    "    return result"
   ]
  },
  {
   "cell_type": "code",
   "execution_count": 40,
   "id": "eeeb662d-d1e2-4c78-9de8-3c94f5a19c16",
   "metadata": {},
   "outputs": [
    {
     "data": {
      "text/plain": [
       "120"
      ]
     },
     "execution_count": 40,
     "metadata": {},
     "output_type": "execute_result"
    }
   ],
   "source": [
    "factorial(5)"
   ]
  },
  {
   "cell_type": "code",
   "execution_count": 52,
   "id": "4095b69d-048d-43b1-835c-3cbf37c3e7ed",
   "metadata": {},
   "outputs": [],
   "source": [
    "# while loop\n",
    "def factorial(x):   # x = int, 5\n",
    "    listx = list(range(1, x + 1))\n",
    "    result = 1\n",
    "    i = 0\n",
    "    while i < len(listx):  # [1, 2, 3, 4, 5]\n",
    "        result *= listx[i]\n",
    "        i += 1\n",
    "    return result"
   ]
  },
  {
   "cell_type": "code",
   "execution_count": 53,
   "id": "8db452ec-efd8-4eb7-a491-e3a7bd842126",
   "metadata": {},
   "outputs": [
    {
     "data": {
      "text/plain": [
       "120"
      ]
     },
     "execution_count": 53,
     "metadata": {},
     "output_type": "execute_result"
    }
   ],
   "source": [
    "factorial(5)"
   ]
  },
  {
   "cell_type": "code",
   "execution_count": 73,
   "id": "fc826262-cdce-4e0e-9256-56309b64c512",
   "metadata": {},
   "outputs": [],
   "source": [
    "# recursive function\n",
    "def factorial(x):\n",
    "    if x <= 1:  # 0 atau 1\n",
    "        return 1\n",
    "    else:   # x=3  3!=3x2x1]\n",
    "        return x * factorial(x - 1)"
   ]
  },
  {
   "cell_type": "code",
   "execution_count": 74,
   "id": "7f600290-e0dc-4d56-b3f1-bff14aa8ca7c",
   "metadata": {},
   "outputs": [
    {
     "data": {
      "text/plain": [
       "120"
      ]
     },
     "execution_count": 74,
     "metadata": {},
     "output_type": "execute_result"
    }
   ],
   "source": [
    "factorial(5)"
   ]
  },
  {
   "cell_type": "code",
   "execution_count": 76,
   "id": "c53e5e00-08fa-4c71-9886-f0f936b058e3",
   "metadata": {},
   "outputs": [],
   "source": [
    "# f(5) x = 5  =>  5 * factorial(4)\n",
    "# f(4) x = 4  =>  4 * factorial(3)\n",
    "# f(3) x = 3  =>  3 * factorial(2)\n",
    "# f(2) x = 2  =>  2 * factorial(1)\n",
    "# f(1) = 1\n",
    "# f(2) = 2 * factorial(1) = 2 * 1 = 2\n",
    "# f(3) = 3 * factorial(2) = 3 * 2 = 6\n",
    "# f(4) = 4 * factorial(3) = 4 * 6 = 24\n",
    "# f(5) = 5 * factorial(4) = 5 * 24 = 120"
   ]
  },
  {
   "cell_type": "markdown",
   "id": "6ab8334a-133a-46cb-8072-8941a667822f",
   "metadata": {},
   "source": [
    "## Built-in Function\n",
    "\n",
    "Function bawaan python, tanpa instalasi atau import modul/package dapat digunakan"
   ]
  },
  {
   "cell_type": "code",
   "execution_count": 90,
   "id": "9863734d-23fd-473e-b7aa-b3559b6b95ec",
   "metadata": {},
   "outputs": [
    {
     "data": {
      "text/plain": [
       "(100, 2)"
      ]
     },
     "execution_count": 90,
     "metadata": {},
     "output_type": "execute_result"
    }
   ],
   "source": [
    "data = [100, 2, 3, 4, 5]\n",
    "x = max(data)\n",
    "y = min(data)\n",
    "x, y"
   ]
  },
  {
   "cell_type": "code",
   "execution_count": 88,
   "id": "8a5cf8b6-f9b9-42ed-8633-58e58225de19",
   "metadata": {},
   "outputs": [
    {
     "data": {
      "text/plain": [
       "(5, 6, 6, 2, 22)"
      ]
     },
     "execution_count": 88,
     "metadata": {},
     "output_type": "execute_result"
    }
   ],
   "source": [
    "x = len([12, 42, 1, 54, 89]) # hitung jumlah elemen dalam list\n",
    "y = len((1, 2, 3, 4, 5, 21)) # hitung jumlah elemen dalam tuple\n",
    "z = len({1, 2, 3, 4, 5, 21}) # hitung jumlah elemen dalam set\n",
    "a = len({\"nama\": \"Budi\", \"usia\": 12}) # hitung jumlah key/property dalam dictionary\n",
    "b = len(\"Universitas Nusa Putra\") # hitung jumlah karakter string\n",
    "x, y, z, a, b\n",
    "# Function dg argumen yg tipe datanya dinamic: Function Polymorphism "
   ]
  },
  {
   "cell_type": "markdown",
   "id": "ab933f92-4c19-4cef-a7b5-1402f5e6ff3e",
   "metadata": {},
   "source": [
    "## Functional Programming\n",
    "\n",
    "Paradigma pemrograman di mana function sebagai first class dalam suatu project\n",
    "- Pure functions\n",
    "- Recursion sbg solusi dari kasus looping\n",
    "- Referential transparency\n",
    "- Functions are first class and can be higher-order"
   ]
  },
  {
   "cell_type": "markdown",
   "id": "f506a5a6-ff6b-427d-9e99-2cb317064a05",
   "metadata": {},
   "source": [
    "### Pure function\n",
    "\n",
    "- Output selalu sama untuk input yang sama \n",
    "- Tidak memodifikasi global variable dan argumen input"
   ]
  },
  {
   "cell_type": "code",
   "execution_count": 91,
   "id": "74e55f5d-dbf8-44d6-9bb7-453ac6080bc4",
   "metadata": {},
   "outputs": [],
   "source": [
    "def kalidua(x):\n",
    "    return x * 2"
   ]
  },
  {
   "cell_type": "code",
   "execution_count": 94,
   "id": "1e44c4bc-6118-4814-84d2-cae4a70441e2",
   "metadata": {},
   "outputs": [
    {
     "name": "stdout",
     "output_type": "stream",
     "text": [
      "4\n",
      "4\n"
     ]
    }
   ],
   "source": [
    "print(kalidua(2))\n",
    "print(kalidua(2))"
   ]
  },
  {
   "cell_type": "code",
   "execution_count": 95,
   "id": "aa8c1752-dd5f-4426-9d1a-7a778f66e961",
   "metadata": {},
   "outputs": [
    {
     "name": "stdout",
     "output_type": "stream",
     "text": [
      "6\n",
      "6\n"
     ]
    }
   ],
   "source": [
    "print(kalidua(3))\n",
    "print(kalidua(3))"
   ]
  },
  {
   "cell_type": "code",
   "execution_count": 105,
   "id": "9245eefb-3122-4407-96cb-0b33cd99a0f9",
   "metadata": {},
   "outputs": [],
   "source": [
    "a = 2\n",
    "def kalidua(x):\n",
    "    # a = 10   # FORBIDDEN! memodifikasi global variable\n",
    "    # x = 13   # FORBIDDEN! memodifikasi arg input x\n",
    "    return x * a"
   ]
  },
  {
   "cell_type": "code",
   "execution_count": 106,
   "id": "6eb5e67b-c027-49ce-baba-a3c316c05629",
   "metadata": {},
   "outputs": [
    {
     "data": {
      "text/plain": [
       "200"
      ]
     },
     "execution_count": 106,
     "metadata": {},
     "output_type": "execute_result"
    }
   ],
   "source": [
    "kalidua(100)"
   ]
  },
  {
   "cell_type": "markdown",
   "id": "9d15093b-423c-4676-8cce-af49d7f2488b",
   "metadata": {},
   "source": [
    "### First Class\n",
    "\n",
    "Dalam pemrograman first class pada dasarnya adalah: VARIABLE, namun dalam functional programming FUNCTION juga harus diperlakukan sbg first class.\n",
    "- Bisa assign ke variable / store data\n",
    "- Bisa di-pass sbg arg pada suatu func\n",
    "- Berupa return function dan lambda function\n",
    "- Bisa menjadi elemen dalam suatu struktur data"
   ]
  },
  {
   "cell_type": "code",
   "execution_count": 117,
   "id": "87b57944-68d0-4c5d-a26d-ecff256a1e11",
   "metadata": {},
   "outputs": [],
   "source": [
    "def x(a):\n",
    "    return a"
   ]
  },
  {
   "cell_type": "code",
   "execution_count": 119,
   "id": "4da28768-0e42-4770-ae51-c630330bbf7c",
   "metadata": {},
   "outputs": [
    {
     "data": {
      "text/plain": [
       "[1, 4, 35, 6, 12]"
      ]
     },
     "execution_count": 119,
     "metadata": {},
     "output_type": "execute_result"
    }
   ],
   "source": [
    "tes = [1, 4, 35, 6, x(12)]\n",
    "tes"
   ]
  },
  {
   "cell_type": "markdown",
   "id": "ec9f5531-5cd5-4ed6-9aa2-ec6a58e79447",
   "metadata": {},
   "source": [
    "### Higher Order\n",
    "\n",
    "- Func memiliki argumen berupa func\n",
    "- Func memiliki return berupa func"
   ]
  },
  {
   "cell_type": "code",
   "execution_count": 121,
   "id": "85469b8f-ed42-4c8d-a230-9a7e045e3936",
   "metadata": {},
   "outputs": [],
   "source": [
    "def pi():\n",
    "    return 3.14\n",
    "def luasLingkaran(pi=pi(), radius=1):\n",
    "    return pi * (radius ** 2)"
   ]
  }
 ],
 "metadata": {
  "kernelspec": {
   "display_name": "Python 3 (ipykernel)",
   "language": "python",
   "name": "python3"
  },
  "language_info": {
   "codemirror_mode": {
    "name": "ipython",
    "version": 3
   },
   "file_extension": ".py",
   "mimetype": "text/x-python",
   "name": "python",
   "nbconvert_exporter": "python",
   "pygments_lexer": "ipython3",
   "version": "3.10.0"
  }
 },
 "nbformat": 4,
 "nbformat_minor": 5
}
